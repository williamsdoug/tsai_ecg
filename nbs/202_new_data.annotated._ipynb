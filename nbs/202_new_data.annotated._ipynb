{
 "cells": [
  {
   "cell_type": "code",
   "execution_count": null,
   "metadata": {},
   "outputs": [],
   "source": [
    "# default_exp data.annotated2"
   ]
  },
  {
   "cell_type": "code",
   "execution_count": null,
   "metadata": {},
   "outputs": [],
   "source": [
    "#! pip install -Uqq git+https://github.com/timeseriesAI/tsai.git"
   ]
  },
  {
   "cell_type": "markdown",
   "metadata": {},
   "source": [
    "# Annotated Timeseries\n",
    "> Functions and classes to support timeseries containing annotated positions, where an individual annotation denotes a region of interest within a waveform with an associated reference point.  Labels may be uniquely specified per-annotation instance, or may be common among all annotations withing the timeseries\n",
    "\n",
    "\n",
    "**Motivation**: Electrocardiogram data (ECG/EKG) may contain additional metadata denoting the position of individual heartbeats (qrs position) that can be used to analyze the morphology of individual beats (p-wave, qrs-complex, t-wave) for certain cardiac abnormalities.  Other biosignals such as cardiotocogram (CTG) may also benefit from the analysis of individual events (e.g.: fetal hr decelerations, fetal hr accelerations) with the overall signal.\n",
    "\n",
    "**Modes of Operation**:\n",
    "\n",
    "- static:  Preprocess timeseries to extract subsequences where subsequence is defined by offset and with relative to each annotated position (or random subset of annotated positions).  \n",
    "\n",
    "- dynamic: Batch transform extracts subsequences and associated label for a randomly selected annotation. \n",
    "\n",
    "  - **Note:** These classes and functionals are conceptually similar to TSUnwindowedDataset / TSUnwindowedDataset with the key difference that window locatiosn are explicitly specified using a set of annotated positions and that6 each window may have a unique label\n",
    "\n",
    "\n",
    "Limitations:\n",
    "\n",
    "- Non-uniform X arrays (ragged numpy arrays) are only supported in static / preprocessing mode."
   ]
  },
  {
   "cell_type": "code",
   "execution_count": null,
   "metadata": {},
   "outputs": [],
   "source": [
    "#hide\n",
    "%reload_ext autoreload\n",
    "%autoreload 2\n",
    "%matplotlib inline"
   ]
  },
  {
   "cell_type": "code",
   "execution_count": null,
   "metadata": {},
   "outputs": [],
   "source": [
    "# hide\n",
    "from nbdev import show_doc"
   ]
  },
  {
   "cell_type": "raw",
   "metadata": {},
   "source": [
    "import tsai\n",
    "from tsai.all import *"
   ]
  },
  {
   "cell_type": "code",
   "execution_count": null,
   "metadata": {},
   "outputs": [],
   "source": [
    "#export\n",
    "from tsai.imports import *\n",
    "from tsai.utils import *\n",
    "from tsai.data.external import *\n",
    "from tsai.data.core import *\n",
    "from tsai.data.preprocessing import *"
   ]
  },
  {
   "cell_type": "code",
   "execution_count": null,
   "metadata": {},
   "outputs": [],
   "source": [
    "#export\n",
    "from tsai_ecg.data.synthetic import get_synthetic_sin_data"
   ]
  },
  {
   "cell_type": "markdown",
   "metadata": {},
   "source": [
    "## Annotation Preprocessing"
   ]
  },
  {
   "cell_type": "code",
   "execution_count": null,
   "metadata": {},
   "outputs": [],
   "source": [
    "#exporti\n",
    "def _sliding_annotations(all_ann, lengths, width=100, offset=None, limit=None, include_empty=False):\n",
    "    lengths = [lengths]*len(all_ann) if isinstance(lengths, int) else lengths   # lengths for each row\n",
    "    offset = offset if offset else -width//2\n",
    "    offsetR = width + offset\n",
    "    for i, row_anns in enumerate(all_ann):\n",
    "        row_anns =  [(idx, e) for idx, e in enumerate(row_anns) \n",
    "                     if e+offset >=0 and e+offsetR <  lengths[i]]  # trim overlap\n",
    "        if len(row_anns) > 0:\n",
    "            if limit and len(row_anns) > limit:\n",
    "                random.shuffle(row_anns)\n",
    "                row_anns = row_anns[:limit]\n",
    "            for i_a, pos in row_anns:\n",
    "                yield i, pos+offset, pos+offsetR, i_a\n",
    "        elif include_empty:\n",
    "            pos = random.randint(lengths[i]-width)\n",
    "            yield i, pos, pos+width, None\n",
    "        else:\n",
    "            continue"
   ]
  },
  {
   "cell_type": "code",
   "execution_count": null,
   "metadata": {},
   "outputs": [],
   "source": [
    "#exporti\n",
    "def _compute_new_splits(m, orig_splits):\n",
    "    return L( L(i for i, old_i in enumerate(m) if old_i in split_set)  \n",
    "              for split_set in orig_splits)"
   ]
  },
  {
   "cell_type": "code",
   "execution_count": null,
   "metadata": {},
   "outputs": [],
   "source": [
    "#exporti\n",
    "def _compute_new_folds(m, orig_folds):\n",
    "    return orig_folds[m]"
   ]
  },
  {
   "cell_type": "code",
   "execution_count": null,
   "metadata": {},
   "outputs": [],
   "source": [
    "#export\n",
    "@delegates(_sliding_annotations)\n",
    "def preprocess_extract_annotation_windows(X, anns, y=None, splits=None, folds=None, \n",
    "                                          per_ann_label=False, verbose=False, **kwargs):\n",
    "    \"\"\"Extracted timeseries subsequences and optionally label relative to annotated positions\"\"\"\n",
    "    lengths = [x.shape[-1] for x in X]\n",
    "    \n",
    "    if isinstance(y, NoneType):\n",
    "        if verbose: print('No Label')\n",
    "        X_win, m = zip(*[[X[i_orig][..., idx_l:idx_r], i_orig]\n",
    "            for (i_orig, idx_l, idx_r, _) in _sliding_annotations(anns, lengths, **kwargs)])\n",
    "        y_win = None\n",
    "    elif per_ann_label:\n",
    "        if verbose: print('label per annotation')\n",
    "        X_win, y_win, m = zip(*[[X[i_orig][..., idx_l:idx_r], y[i_orig][i_a], i_orig]\n",
    "            for (i_orig, idx_l, idx_r, i_a) in _sliding_annotations(anns, lengths, **kwargs)])\n",
    "        y_win = L(*y_win)\n",
    "    elif isinstance(y[0], np.ndarray):\n",
    "        if verbose: print('label is vector')\n",
    "        assert y[0].shape[-1] == X[0].shape[-1]\n",
    "        X_win, y_win, m = zip(*[[X[i_orig][..., idx_l:idx_r], y[i_orig][idx_l:idx_r], i_orig]\n",
    "            for (i_orig, idx_l, idx_r, _) in _sliding_annotations(anns, lengths, **kwargs)])\n",
    "        y_win = np.array(y_win)\n",
    "    else:\n",
    "        if verbose: print('label per row')\n",
    "        X_win, y_win, m = zip(*[[X[i_orig][..., idx_l:idx_r], y[i_orig], i_orig]\n",
    "            for (i_orig, idx_l, idx_r, _) in _sliding_annotations(anns, lengths, **kwargs)])\n",
    "        y_win = L(*y_win)\n",
    "\n",
    "    ret = [np.array(X_win)]\n",
    "    if not isinstance(y_win, NoneType):\n",
    "        ret.append(y_win)\n",
    "    \n",
    "    if not isinstance(splits, NoneType):\n",
    "        return [*ret, _compute_new_splits(m, splits)]\n",
    "    elif not isinstance(folds, NoneType):\n",
    "        return [*ret, _compute_new_folds(m, folds)]\n",
    "    elif len(ret) == 1:\n",
    "        return ret[0]\n",
    "    else:\n",
    "        return ret"
   ]
  },
  {
   "cell_type": "markdown",
   "metadata": {},
   "source": [
    "````\n",
    "Inputs:\n",
    "      X:       Timeseries data, can be uniform or ragged, with or without channels \n",
    "      ans:     List of annotation positions for each waveform  \n",
    "      y:       optional list label data (nested for per-event lavels)\n",
    "      width:   window size in samples\n",
    "      offset:  start of window vs event, window centered by default\n",
    "      limit:   max windows per timeseries\n",
    "      per_ann_label:  returns label data corresponding to specific event\n",
    "      include_empty: include randomly selected window if no annotated positions\n",
    "      splits:  splits data, will be mapped to windows data if present\n",
    "      folds:   folds data, will be mapped to windows data if present\n",
    "      *note: splits and folds are mutually exclusive\n",
    "Returns:\n",
    "      X_win:   windowed subsequences (an input row may produce multiple output rows)\n",
    "      y_win:   labels for subsequences\n",
    "      folds_win or folds_win: Optional, depending on if splits or folds specified\n",
    "````"
   ]
  },
  {
   "cell_type": "markdown",
   "metadata": {},
   "source": [
    "Example: Uniform length timeseries, with channels - Extract subsequences only "
   ]
  },
  {
   "cell_type": "code",
   "execution_count": null,
   "metadata": {},
   "outputs": [
    {
     "name": "stdout",
     "output_type": "stream",
     "text": [
      "X:(2, 1, 1000)  y:2  anns:2\n"
     ]
    },
    {
     "data": {
      "image/png": "[encoded data removed]",
      "text/plain": [
       "<Figure size 576x54 with 1 Axes>"
      ]
     },
     "metadata": {
      "needs_background": "light"
     },
     "output_type": "display_data"
    },
    {
     "data": {
      "image/png": "[encoded data removed]",
      "text/plain": [
       "<Figure size 576x54 with 1 Axes>"
      ]
     },
     "metadata": {
      "needs_background": "light"
     },
     "output_type": "display_data"
    },
    {
     "name": "stdout",
     "output_type": "stream",
     "text": [
      "X_win:(10, 1, 150)\n"
     ]
    },
    {
     "data": {
      "image/png": "[encoded data removed]",
      "text/plain": [
       "<Figure size 288x54 with 1 Axes>"
      ]
     },
     "metadata": {
      "needs_background": "light"
     },
     "output_type": "display_data"
    },
    {
     "data": {
      "image/png": "[encoded data removed]",
      "text/plain": [
       "<Figure size 288x54 with 1 Axes>"
      ]
     },
     "metadata": {
      "needs_background": "light"
     },
     "output_type": "display_data"
    }
   ],
   "source": [
    "X, y, anns = get_synthetic_sin_data(length=1000, n_sig=2, dims=3)\n",
    "print(f'X:{X.shape}  y:{len(y)}  anns:{len(anns)}')\n",
    "\n",
    "for i, sig in enumerate(X):\n",
    "    plt.figure(figsize=(8, 0.75))\n",
    "    plt.title(f'Input:{i} -- {sig.shape}')\n",
    "    plt.plot(np.arange(sig.shape[-1]), sig[0])\n",
    "    plt.scatter(anns[i], sig[0][anns[i]], c='r', s=10)\n",
    "    plt.xlim(0, sig.shape[-1])\n",
    "    plt.show()\n",
    "\n",
    "X_win = preprocess_extract_annotation_windows(X, anns, width=150, limit=5)\n",
    "print(f'X_win:{X_win.shape}')\n",
    "for i in [1, 5]:\n",
    "    sig = X_win[i]\n",
    "    plt.figure(figsize=(4, 0.75))\n",
    "    plt.title(f'Output:{i} - shape:{sig.shape}')\n",
    "    plt.plot(np.arange(sig.shape[-1]), sig[0])\n",
    "    plt.xlim(0, sig.shape[-1])\n",
    "    plt.show()  "
   ]
  },
  {
   "cell_type": "markdown",
   "metadata": {},
   "source": [
    "Extract subsequences and per-row labels"
   ]
  },
  {
   "cell_type": "code",
   "execution_count": null,
   "metadata": {},
   "outputs": [
    {
     "name": "stdout",
     "output_type": "stream",
     "text": [
      "X_win:(15, 150)  y_win:15\n"
     ]
    },
    {
     "data": {
      "image/png": "[encoded data removed]",
      "text/plain": [
       "<Figure size 288x54 with 1 Axes>"
      ]
     },
     "metadata": {
      "needs_background": "light"
     },
     "output_type": "display_data"
    },
    {
     "data": {
      "image/png": "[encoded data removed]",
      "text/plain": [
       "<Figure size 288x54 with 1 Axes>"
      ]
     },
     "metadata": {
      "needs_background": "light"
     },
     "output_type": "display_data"
    },
    {
     "data": {
      "image/png": "[encoded data removed]",
      "text/plain": [
       "<Figure size 288x54 with 1 Axes>"
      ]
     },
     "metadata": {
      "needs_background": "light"
     },
     "output_type": "display_data"
    },
    {
     "data": {
      "image/png": "[encoded data removed]",
      "text/plain": [
       "<Figure size 288x54 with 1 Axes>"
      ]
     },
     "metadata": {
      "needs_background": "light"
     },
     "output_type": "display_data"
    }
   ],
   "source": [
    "X, y, anns = get_synthetic_sin_data(length=1000, n_sig=3)\n",
    "\n",
    "w=150\n",
    "X_win, y_win = preprocess_extract_annotation_windows(X, anns, y=y, width=w, limit=5)\n",
    "test_eq(isinstance(X_win, np.ndarray), True)\n",
    "test_eq(len(X_win.shape), len(X.shape))  # verify dimensions\n",
    "test_eq(X_win.shape[-1], w)              # verify width\n",
    "test_eq(len(X_win), len(y_win))  \n",
    "print(f'X_win:{X_win.shape}  y_win:{len(y_win)}')\n",
    "\n",
    "for i in range(0, len(X_win), 4):\n",
    "    sig = X_win[i]\n",
    "    plt.figure(figsize=(4, 0.75))\n",
    "    plt.title(f'{i} - label:{y_win[i]}  shape:{sig.shape}')\n",
    "    plt.plot(np.arange(len(sig)), sig)\n",
    "    plt.xlim(0, len(sig))\n",
    "    plt.show() "
   ]
  },
  {
   "cell_type": "markdown",
   "metadata": {},
   "source": [
    "Example: per-annotation labels"
   ]
  },
  {
   "cell_type": "code",
   "execution_count": null,
   "metadata": {},
   "outputs": [
    {
     "name": "stdout",
     "output_type": "stream",
     "text": [
      "X:(3, 1000)  y:3  anns:3\n"
     ]
    },
    {
     "data": {
      "image/png": "[encoded data removed]",
      "text/plain": [
       "<Figure size 576x54 with 1 Axes>"
      ]
     },
     "metadata": {
      "needs_background": "light"
     },
     "output_type": "display_data"
    },
    {
     "name": "stdout",
     "output_type": "stream",
     "text": [
      "X_win:(15, 150)  y_win:15\n"
     ]
    },
    {
     "data": {
      "image/png": "[encoded data removed]",
      "text/plain": [
       "<Figure size 288x54 with 1 Axes>"
      ]
     },
     "metadata": {
      "needs_background": "light"
     },
     "output_type": "display_data"
    },
    {
     "data": {
      "image/png": "[encoded data removed]",
      "text/plain": [
       "<Figure size 288x54 with 1 Axes>"
      ]
     },
     "metadata": {
      "needs_background": "light"
     },
     "output_type": "display_data"
    },
    {
     "data": {
      "image/png": "[encoded data removed]",
      "text/plain": [
       "<Figure size 288x54 with 1 Axes>"
      ]
     },
     "metadata": {
      "needs_background": "light"
     },
     "output_type": "display_data"
    }
   ],
   "source": [
    "X, y, anns = get_synthetic_sin_data(length=1000, n_sig=3, per_ann_label=True)\n",
    "print(f'X:{X.shape}  y:{len(y)}  anns:{len(anns)}')\n",
    "\n",
    "i, sig = 0, X[0]\n",
    "plt.figure(figsize=(8, 0.75))\n",
    "plt.title(f'Input:{i} -  {sig.shape}')\n",
    "plt.plot(np.arange(len(sig)), sig)\n",
    "anns_p = [e for j, e in enumerate(anns[i]) if y[i][j] == 'p']\n",
    "plt.scatter(anns_p, sig[anns_p], c='r', s=10)\n",
    "anns_n = [e for j, e in enumerate(anns[i]) if y[i][j] == 'n']\n",
    "plt.scatter(anns_n, sig[anns_n], c='k', s=10)\n",
    "plt.xlim(0, len(sig))\n",
    "plt.show()\n",
    "\n",
    "X_win, y_win = preprocess_extract_annotation_windows(X, anns, y=y, width=150, \n",
    "                                                     per_ann_label=True, limit=5)\n",
    "print(f'X_win:{X_win.shape}  y_win:{len(y_win)}')\n",
    "for i in range(3):\n",
    "    sig = X_win[i]\n",
    "    plt.figure(figsize=(4, 0.75))\n",
    "    plt.title(f'Output:{i} - label: {y_win[i]}  shape: {sig.shape}')\n",
    "    plt.plot(np.arange(len(sig)), sig)\n",
    "    plt.xlim(0, len(sig))\n",
    "    plt.show()"
   ]
  },
  {
   "cell_type": "markdown",
   "metadata": {},
   "source": [
    "Example: vector/array labels"
   ]
  },
  {
   "cell_type": "code",
   "execution_count": null,
   "metadata": {},
   "outputs": [
    {
     "name": "stdout",
     "output_type": "stream",
     "text": [
      "X_win:(15, 300)  y_win:15\n"
     ]
    },
    {
     "data": {
      "image/png": "[encoded data removed]",
      "text/plain": [
       "<Figure size 576x54 with 1 Axes>"
      ]
     },
     "metadata": {
      "needs_background": "light"
     },
     "output_type": "display_data"
    },
    {
     "data": {
      "image/png": "[encoded data removed]",
      "text/plain": [
       "<Figure size 576x54 with 1 Axes>"
      ]
     },
     "metadata": {
      "needs_background": "light"
     },
     "output_type": "display_data"
    },
    {
     "data": {
      "image/png": "[encoded data removed]",
      "text/plain": [
       "<Figure size 576x54 with 1 Axes>"
      ]
     },
     "metadata": {
      "needs_background": "light"
     },
     "output_type": "display_data"
    },
    {
     "data": {
      "image/png": "[encoded data removed]",
      "text/plain": [
       "<Figure size 576x54 with 1 Axes>"
      ]
     },
     "metadata": {
      "needs_background": "light"
     },
     "output_type": "display_data"
    }
   ],
   "source": [
    "X, y, anns = get_synthetic_sin_data(length=1000, n_sig=3, label_is_array=True)\n",
    "X_win, y_win = preprocess_extract_annotation_windows(X, anns, y=y, width=300, limit=5)\n",
    "print(f'X_win:{X_win.shape}  y_win:{len(y_win)}')\n",
    "for i in range(0, len(X_win), 4):\n",
    "    sig = X_win[i]\n",
    "    yy =  y_win[i]\n",
    "    yy_pos = np.where(yy!=0)[0]\n",
    "    yy_subset =  yy[yy!=0]\n",
    "    plt.figure(figsize=(8, 0.75))\n",
    "    plt.title(f'{i}: non-zero labels: {yy_subset} @ {yy_pos}')\n",
    "    plt.plot(np.arange(len(sig)), sig)\n",
    "    plt.xlim(0, len(sig))\n",
    "    plt.show() "
   ]
  },
  {
   "cell_type": "markdown",
   "metadata": {},
   "source": [
    "Example: Splits"
   ]
  },
  {
   "cell_type": "code",
   "execution_count": null,
   "metadata": {},
   "outputs": [
    {
     "data": {
      "text/plain": [
       "(#2) [[0, 1, 2, 3, 4, 5, 6, 7, 8, 9, 10, 11, 12, 13, 18, 19, 22, 23, 24, 25, 26, 27, 28, 29, 30, 31, 32, 33, 34, 35, 38, 39],[14, 15, 16, 17, 20, 21, 36, 37]]"
      ]
     },
     "execution_count": null,
     "metadata": {},
     "output_type": "execute_result"
    }
   ],
   "source": [
    "# 2-way split: train, valid\n",
    "X, y, anns, splits = get_synthetic_sin_data(length=1000, n_sig=20, split_pct=0.2)\n",
    "X_win, y_win, splits_win = preprocess_extract_annotation_windows(X, anns, y=y, width=150, limit=2, splits=splits)\n",
    "test_eq(len(splits_win), len(splits))\n",
    "splits_win"
   ]
  },
  {
   "cell_type": "code",
   "execution_count": null,
   "metadata": {},
   "outputs": [
    {
     "data": {
      "text/plain": [
       "(#3) [[0, 1, 2, 3, 4, 5, 6, 7, 8, 9, 14, 15, 16, 17, 24, 25, 28, 29, 30, 31, 32, 33, 38, 39],[10, 11, 12, 13, 18, 19, 36, 37],[20, 21, 22, 23, 26, 27, 34, 35]]"
      ]
     },
     "execution_count": null,
     "metadata": {},
     "output_type": "execute_result"
    }
   ],
   "source": [
    "# 3-way split: train, valid, test\n",
    "X, y, anns, splits = get_synthetic_sin_data(length=1000, n_sig=20, split_pct=(0.2, 0.15))\n",
    "X_win, y_win, splits_win = preprocess_extract_annotation_windows(X, anns, y=y, width=150, limit=2, splits=splits)\n",
    "test_eq(len(splits_win), len(splits))\n",
    "splits_win"
   ]
  },
  {
   "cell_type": "markdown",
   "metadata": {},
   "source": [
    "Example: Folds"
   ]
  },
  {
   "cell_type": "code",
   "execution_count": null,
   "metadata": {},
   "outputs": [
    {
     "data": {
      "text/plain": [
       "(#40) [4,4,3,3,0,0,2,2,2,2...]"
      ]
     },
     "execution_count": null,
     "metadata": {},
     "output_type": "execute_result"
    }
   ],
   "source": [
    "X, y, anns, folds = get_synthetic_sin_data(length=1000, n_sig=20, n_fold=5)\n",
    "X_win, y_win, folds_win = preprocess_extract_annotation_windows(X, anns, y=y, width=150, limit=2, folds=folds)\n",
    "test_eq(set(folds), set(folds_win))\n",
    "folds_win"
   ]
  },
  {
   "cell_type": "code",
   "execution_count": null,
   "metadata": {},
   "outputs": [],
   "source": [
    "#hide\n",
    "\n",
    "# Unit tests\n",
    "\n",
    "# Verify lengths of X-array\n",
    "\n",
    "n_sig, w, dims = 3, 150, 2\n",
    "\n",
    "# uniform no-channel\n",
    "X, y, anns = get_synthetic_sin_data(length=1000, n_sig=n_sig, dims=dims)\n",
    "X_win = preprocess_extract_annotation_windows(X, anns, width=w, limit=5)\n",
    "test_eq(isinstance(X_win, np.ndarray), True)\n",
    "test_eq(len(X_win.shape), len(X.shape))  # verify dimensions\n",
    "test_eq(X_win.shape[-1], w)              # verify width\n",
    "if dims == 3: test_eq(X_win.shape[-2], 1)\n",
    "    \n",
    "# non-uniform no-channel   \n",
    "X, y, anns = get_synthetic_sin_data(length=(1000, 1100), n_sig=n_sig, dims=dims)\n",
    "X_win = preprocess_extract_annotation_windows(X, anns, width=w, limit=5)\n",
    "test_eq(isinstance(X_win, np.ndarray), True)\n",
    "test_eq(len(X_win[0].shape), len(X[0].shape))  # verify dimensions\n",
    "test_eq(X_win.shape[-1], w)              # verify width\n",
    "if dims == 3: test_eq(X_win.shape[-2], 1)\n",
    "\n",
    "n_sig, w, dims = 3, 150, 3\n",
    "\n",
    "# uniform with channel\n",
    "X, y, anns = get_synthetic_sin_data(length=1000, n_sig=n_sig, dims=dims)\n",
    "X_win = preprocess_extract_annotation_windows(X, anns, width=w, limit=5)\n",
    "test_eq(isinstance(X_win, np.ndarray), True)\n",
    "test_eq(len(X_win.shape), len(X.shape))  # verify dimensions\n",
    "test_eq(X_win.shape[-1], w)              # verify width\n",
    "if dims == 3: test_eq(X_win.shape[-2], 1)\n",
    "    \n",
    "# non-uniform with channel   \n",
    "X, y, anns = get_synthetic_sin_data(length=(1000, 1100), n_sig=n_sig, dims=dims)\n",
    "X_win = preprocess_extract_annotation_windows(X, anns, width=w, limit=5)\n",
    "test_eq(isinstance(X_win, np.ndarray), True)\n",
    "test_eq(len(X_win[0].shape), len(X[0].shape))  # verify dimensions\n",
    "test_eq(X_win.shape[-1], w)              # verify width\n",
    "if dims == 3: test_eq(X_win.shape[-2], 1)\n",
    "\n",
    "# Verify y output\n",
    "\n",
    "# per-row labels\n",
    "X, y, anns = get_synthetic_sin_data(length=1000, n_sig=3)\n",
    "X_win, y_win = preprocess_extract_annotation_windows(X, anns, y=y, width=300, limit=5)\n",
    "test_eq(isinstance(y_win, L), True)\n",
    "test_eq(X_win.shape[0], len(y_win))\n",
    "\n",
    "X, y, anns = get_synthetic_sin_data(length=1000, n_sig=3, dims=3)\n",
    "X_win, y_win = preprocess_extract_annotation_windows(X, anns, y=y, width=300, limit=5)\n",
    "test_eq(isinstance(y_win, L), True)\n",
    "test_eq(X_win.shape[0], len(y_win))\n",
    "\n",
    "# per-annotation labels\n",
    "\n",
    "X, y, anns = get_synthetic_sin_data(length=1000, n_sig=3, per_ann_label=True)\n",
    "X_win, y_win = preprocess_extract_annotation_windows(X, anns, y=y, width=300, \n",
    "                                                     per_ann_label=True, limit=5)\n",
    "test_eq(isinstance(y_win, L), True)\n",
    "test_eq(X_win.shape[0], len(y_win))\n",
    "\n",
    "X, y, anns = get_synthetic_sin_data(length=1000, n_sig=3, per_ann_label=True, dims=3)\n",
    "X_win, y_win = preprocess_extract_annotation_windows(X, anns, y=y, width=300, \n",
    "                                                     per_ann_label=True, limit=5)\n",
    "test_eq(isinstance(y_win, L), True)\n",
    "test_eq(X_win.shape[0], len(y_win))\n",
    "\n",
    "\n",
    "# array/vector labels\n",
    "\n",
    "X, y, events = get_synthetic_sin_data(length=1000, n_sig=3, label_is_array=True)\n",
    "X_win, y_win = preprocess_extract_annotation_windows(X, anns, y=y, width=300, limit=5)\n",
    "test_eq(type(X_win), type(y_win))\n",
    "test_eq(X_win.shape[0], y_win.shape[0])\n",
    "test_eq(X_win.shape[-1], y_win.shape[-1])\n",
    "\n",
    "X, y, events = get_synthetic_sin_data(length=1000, n_sig=3, label_is_array=True, dims=3)\n",
    "X_win, y_win = preprocess_extract_annotation_windows(X, anns, y=y, width=300, limit=5)\n",
    "test_eq(type(X_win), type(y_win))\n",
    "test_eq(X_win.shape[0], y_win.shape[0])\n",
    "test_eq(X_win.shape[-1], y_win.shape[-1])\n",
    "\n",
    "X, y, events = get_synthetic_sin_data(length=(1000, 1100), n_sig=3, label_is_array=True)\n",
    "X_win, y_win = preprocess_extract_annotation_windows(X, anns, y=y, width=300, limit=5)\n",
    "test_eq(type(X_win), type(y_win))\n",
    "test_eq(X_win.shape[0], y_win.shape[0])\n",
    "test_eq(X_win.shape[-1], y_win.shape[-1])\n",
    "\n",
    "X, y, events = get_synthetic_sin_data(length=(1000, 1100), n_sig=3, label_is_array=True, dims=3)\n",
    "X_win, y_win = preprocess_extract_annotation_windows(X, anns, y=y, width=300, limit=5)\n",
    "test_eq(type(X_win), type(y_win))\n",
    "test_eq(X_win.shape[0], y_win.shape[0])\n",
    "test_eq(X_win.shape[-1], y_win.shape[-1])\n",
    "\n",
    "# Multi-label vs single label tests\n",
    "\n",
    "X, y, anns = get_synthetic_sin_data(length=1000, n_sig=3)\n",
    "X_win, y_win = preprocess_extract_annotation_windows(X, anns, y=y, width=300, limit=5)\n",
    "test_eq(isinstance(y_win[0], (tuple, list, L)), False)\n",
    "\n",
    "X, y, anns = get_synthetic_sin_data(length=1000, n_sig=3, has_multi_label=True)\n",
    "X_win, y_win = preprocess_extract_annotation_windows(X, anns, y=y, width=300, limit=5)\n",
    "test_eq(isinstance(y_win[0], (tuple, list, L)), True)\n",
    "test_eq(isinstance(y_win[0][0], (tuple, list, L)), False)\n",
    "\n",
    "X, y, anns = get_synthetic_sin_data(length=1000, n_sig=3, per_ann_label=True)\n",
    "X_win, y_win = preprocess_extract_annotation_windows(X, anns, y=y, width=300, \n",
    "                                                     per_ann_label=True, limit=5)\n",
    "test_eq(isinstance(y_win[0], (tuple, list, L)), False)\n",
    "\n",
    "X, y, anns = get_synthetic_sin_data(length=1000, n_sig=3, has_multi_label=True, \n",
    "                                    per_ann_label=True)\n",
    "X_win, y_win = preprocess_extract_annotation_windows(X, anns, y=y, width=300, limit=5,\n",
    "                                                     per_ann_label=True)\n",
    "test_eq(isinstance(y_win[0], (tuple, list, L)), True)\n",
    "test_eq(isinstance(y_win[0][0], (tuple, list, L)), False)"
   ]
  },
  {
   "cell_type": "markdown",
   "metadata": {},
   "source": [
    "## Annotated Data Helper Functions"
   ]
  },
  {
   "cell_type": "code",
   "execution_count": null,
   "metadata": {},
   "outputs": [],
   "source": [
    "#hide\n",
    "def get_reference_data(n_rows=8, per_ann_label=False, label_is_array=False, n_classes=1000000):\n",
    "    '''Generates deterministic test data'''\n",
    "    w = n_rows+2\n",
    "    X = np.zeros((n_rows, 1, w))\n",
    "    for i in range(n_rows): X[i, 0, i+1] = i+1\n",
    "        \n",
    "    if per_ann_label:\n",
    "        y = L(L(f'{(i+1)%n_classes}') for i in range(n_rows))\n",
    "    elif label_is_array:\n",
    "        y = np.zeros((n_rows, w))\n",
    "        for i in range(n_rows): y[i, i+1] = i+1\n",
    "    else:\n",
    "        #y = L(f'{i+1}' for i in range(n_rows))\n",
    "        y = L((i+1)%n_classes for i in range(n_rows))\n",
    "        \n",
    "    anns = L(L(i+1) for i in range(n_rows))\n",
    "    splits = L(L(range(n_rows//2)), L(range(n_rows//2, n_rows)))\n",
    "    return X, y, anns, splits"
   ]
  },
  {
   "cell_type": "code",
   "execution_count": null,
   "metadata": {},
   "outputs": [],
   "source": [
    "#export\n",
    "def pre_categorize(*args, categorizer=None, splits=None, default=None):\n",
    "    \"\"\"Applies categorizer to list or nest list of labels.  Used\n",
    "    to preprocess per-annotation labels\"\"\"\n",
    "    is_nested = isinstance(args[0][0], (tuple, list, L))\n",
    "    if categorizer is None: categorizer=Categorize\n",
    "    if inspect.isclass(categorizer):\n",
    "        y_train = args[0][splits[0]] if splits else args[0]\n",
    "        vocab = {y_per for y_row in y_train for y_per in y_row} \\\n",
    "                if is_nested else {y_row for y_row in y_train}\n",
    "        if default: vocab.add(default)\n",
    "        c = categorizer()\n",
    "        c.setups(vocab)\n",
    "    else:\n",
    "        c = categorizer\n",
    "    if is_nested:\n",
    "        results = [[[c(y_per) for y_per in y_row] for y_row in y_set] for y_set in args]\n",
    "    else:\n",
    "        results = [[c(y_row) for y_row in y_set] for y_set in args]\n",
    "    results = results[0] if len(args) == 1 else results\n",
    "    return results, c"
   ]
  },
  {
   "cell_type": "code",
   "execution_count": null,
   "metadata": {},
   "outputs": [
    {
     "data": {
      "text/plain": [
       "([0, 1, 2],\n",
       " [TensorCategory(1), TensorCategory(2), TensorCategory(0), TensorCategory(1)],\n",
       " [TensorCategory(2), TensorCategory(0), TensorCategory(1), TensorCategory(2)])"
      ]
     },
     "execution_count": null,
     "metadata": {},
     "output_type": "execute_result"
    }
   ],
   "source": [
    "# per-row labels\n",
    "X, y, anns, splits = get_reference_data(n_classes=3)\n",
    "(yc_train, yc_valid), c = pre_categorize(y[splits[0]], y[splits[1]])\n",
    "c.vocab, yc_train, yc_valid"
   ]
  },
  {
   "cell_type": "code",
   "execution_count": null,
   "metadata": {},
   "outputs": [
    {
     "data": {
      "text/plain": [
       "(['0', '1', '2'],\n",
       " [[TensorCategory(1)],\n",
       "  [TensorCategory(2)],\n",
       "  [TensorCategory(0)],\n",
       "  [TensorCategory(1)]],\n",
       " [[TensorCategory(2)],\n",
       "  [TensorCategory(0)],\n",
       "  [TensorCategory(1)],\n",
       "  [TensorCategory(2)]])"
      ]
     },
     "execution_count": null,
     "metadata": {},
     "output_type": "execute_result"
    }
   ],
   "source": [
    "# per-ann labels\n",
    "X, y, anns, splits = get_reference_data(n_classes=3, per_ann_label=True)\n",
    "(yc_train, yc_valid), c = pre_categorize(y[splits[0]], y[splits[1]])\n",
    "c.vocab, yc_train, yc_valid"
   ]
  },
  {
   "cell_type": "code",
   "execution_count": null,
   "metadata": {},
   "outputs": [],
   "source": [
    "#hide\n",
    "n_classes=3\n",
    "# Unit test per-row labels\n",
    "X, y, anns, splits = get_reference_data(n_classes=n_classes)\n",
    "(yc_train, yc_valid), c = pre_categorize(y[splits[0]], y[splits[1]])\n",
    "\n",
    "test_eq(len(c.vocab), n_classes)\n",
    "test_eq(len(yc_train), len(splits[0]))\n",
    "test_eq(len(yc_valid), len(splits[1]))\n",
    "test_eq(set(c.vocab), set(y))\n",
    "\n",
    "# Unit test per-ann labels\n",
    "X, y, anns, splits = get_reference_data(n_classes=n_classes, per_ann_label=True)\n",
    "(yc_train, yc_valid), c = pre_categorize(y[splits[0]], y[splits[1]])\n",
    "test_eq(len(c.vocab), n_classes)\n",
    "test_eq(len(yc_train), len(splits[0]))\n",
    "test_eq(len(yc_valid), len(splits[1]))\n",
    "test_eq(set(c.vocab), set(_y for y_row in y for _y in y_row))"
   ]
  },
  {
   "cell_type": "markdown",
   "metadata": {},
   "source": [
    "## Annotated Data Transforms"
   ]
  },
  {
   "cell_type": "code",
   "execution_count": null,
   "metadata": {},
   "outputs": [],
   "source": [
    "#export\n",
    "class TSPerAnnotationGenericClassifier(DisplayedTransform):\n",
    "    \"\"\"Common base class supporting slassification of list of Labels\"\"\"\n",
    "    def __init__(self, classifier, default=None, **kwargs):\n",
    "        assert classifier is not None\n",
    "        self.classifier = classifier(**kwargs) if inspect.isclass(classifier) else classifier\n",
    "        self.default=default\n",
    "             \n",
    "    @property\n",
    "    def vocab(self):\n",
    "        \"\"\"Returns vocabulary with map\"\"\"\n",
    "        return self.classifier.vocab\n",
    "    \n",
    "    @property\n",
    "    def internal_classifier(self):\n",
    "        \"\"\"Returns underlying classifier (TSClassification or TSMultiLabelClassification)\"\"\"\n",
    "        return self.classifier\n",
    "    \n",
    "    def setups(self, dsets):\n",
    "        if self.classifier.vocab is None and dsets is not None: \n",
    "            label_values = [label for row in dsets for label in row]\n",
    "            if self.default: label_values.append(label_values)\n",
    "            self.classifier.setups(label_values)\n",
    "            \n",
    "    def encodes(self, o):\n",
    "        return L(self.classifier.encodes(oo) for oo in o)\n",
    "    \n",
    "    def decodes(self, o):\n",
    "        return L(self.classifier.decodes(oo) for oo in o)"
   ]
  },
  {
   "cell_type": "code",
   "execution_count": null,
   "metadata": {},
   "outputs": [
    {
     "data": {
      "text/markdown": [
       "<h4 id=\"TSPerAnnotationGenericClassifier.vocab\" class=\"doc_header\"><code>TSPerAnnotationGenericClassifier.vocab</code><a href=\"\" class=\"source_link\" style=\"float:right\">[source]</a></h4>\n",
       "\n",
       "Returns vocabulary with map"
      ],
      "text/plain": [
       "<IPython.core.display.Markdown object>"
      ]
     },
     "metadata": {},
     "output_type": "display_data"
    }
   ],
   "source": [
    "show_doc(TSPerAnnotationGenericClassifier.vocab)"
   ]
  },
  {
   "cell_type": "code",
   "execution_count": null,
   "metadata": {},
   "outputs": [
    {
     "data": {
      "text/markdown": [
       "<h4 id=\"TSPerAnnotationGenericClassifier.internal_classifier\" class=\"doc_header\"><code>TSPerAnnotationGenericClassifier.internal_classifier</code><a href=\"\" class=\"source_link\" style=\"float:right\">[source]</a></h4>\n",
       "\n",
       "Returns underlying classifier (TSClassification or TSMultiLabelClassification)"
      ],
      "text/plain": [
       "<IPython.core.display.Markdown object>"
      ]
     },
     "metadata": {},
     "output_type": "display_data"
    }
   ],
   "source": [
    "show_doc(TSPerAnnotationGenericClassifier.internal_classifier)"
   ]
  },
  {
   "cell_type": "code",
   "execution_count": null,
   "metadata": {},
   "outputs": [],
   "source": [
    "#export \n",
    "class TSPerAnnClassification(TSPerAnnotationGenericClassifier):\n",
    "    \"\"\"Classifies list of per-annotation labels, returns L(TensorCategory)\"\"\"\n",
    "    @delegates(TSPerAnnotationGenericClassifier.__init__)\n",
    "    @delegates(TSClassification.__init__)\n",
    "    def __init__(self, **kwargs):\n",
    "        \"\"\"Classifies list of per-annotation labels, returns L(TensorCategory)\"\"\"\n",
    "        super().__init__(TSClassification, **kwargs)"
   ]
  },
  {
   "cell_type": "raw",
   "metadata": {},
   "source": [
    "show_doc(TSPerAnnClassification.__init__)"
   ]
  },
  {
   "cell_type": "code",
   "execution_count": null,
   "metadata": {},
   "outputs": [
    {
     "data": {
      "text/plain": [
       "(['n', 'p'],\n",
       " Categorize -- {'vocab': None, 'sort': True, 'add_na': False}:\n",
       " encodes: (Tabular,object) -> encodes\n",
       " (object,object) -> encodes\n",
       " decodes: (Tabular,object) -> decodes\n",
       " (object,object) -> decodes)"
      ]
     },
     "execution_count": null,
     "metadata": {},
     "output_type": "execute_result"
    }
   ],
   "source": [
    "X, y, anns, splits = get_synthetic_sin_data(length=100, n_sig=100, dims=3, \n",
    "                                            split_pct=0.2,per_ann_label=True)\n",
    "\n",
    "tspac = TSPerAnnClassification()\n",
    "tspac.setup(y[splits[0]])\n",
    "tspac.vocab, tspac.internal_classifier"
   ]
  },
  {
   "cell_type": "code",
   "execution_count": null,
   "metadata": {},
   "outputs": [
    {
     "data": {
      "text/plain": [
       "((#1) ['p'], (#1) [TensorCategory(1)], (#1) ['p'])"
      ]
     },
     "execution_count": null,
     "metadata": {},
     "output_type": "execute_result"
    }
   ],
   "source": [
    "_y = y[splits[0]][0]\n",
    "_y, tspac.encodes(_y), tspac.decodes(tspac.encodes(_y))"
   ]
  },
  {
   "cell_type": "code",
   "execution_count": null,
   "metadata": {},
   "outputs": [
    {
     "data": {
      "text/markdown": [
       "<h4 id=\"TSPerAnnotationGenericClassifier.vocab\" class=\"doc_header\"><code>TSPerAnnotationGenericClassifier.vocab</code><a href=\"\" class=\"source_link\" style=\"float:right\">[source]</a></h4>\n",
       "\n",
       "Returns vocabulary with map"
      ],
      "text/plain": [
       "<IPython.core.display.Markdown object>"
      ]
     },
     "metadata": {},
     "output_type": "display_data"
    }
   ],
   "source": [
    "show_doc(TSPerAnnClassification.vocab)"
   ]
  },
  {
   "cell_type": "code",
   "execution_count": null,
   "metadata": {},
   "outputs": [],
   "source": [
    "#hide\n",
    "# Unit test\n",
    "X, y, anns, splits = get_synthetic_sin_data(length=100, n_sig=100, dims=3, \n",
    "                                            split_pct=0.2,per_ann_label=True)\n",
    "tspac = TSPerAnnClassification()\n",
    "tspac.setup(y[splits[0]])\n",
    "test_eq(tspac.vocab, ['n', 'p'])\n",
    "test_eq(isinstance(tspac.internal_classifier, type(TSClassification())), True)\n",
    "for split_set in splits:\n",
    "    for s in split_set:\n",
    "        test_eq(y[s], tspac.decodes(tspac.encodes(y[s])))"
   ]
  },
  {
   "cell_type": "code",
   "execution_count": null,
   "metadata": {},
   "outputs": [],
   "source": [
    "#export  \n",
    "class TSPerAnnMultiLabelClassification(TSPerAnnotationGenericClassifier):\n",
    "    \"\"\"Classifies list of per-annotation multi-labels, \n",
    "    returns (L(tensor) contining one-hot encoded values\"\"\"\n",
    "    @delegates(ItemTransform.__init__)\n",
    "    @delegates(TSMultiLabelClassification.__init__)\n",
    "    def __init__(self, **kwargs):\n",
    "        \"\"\"Classifies list of per-annotation multi-labels, \n",
    "        returns (L(tensor) contining one-hot encoded values\"\"\"\n",
    "        super().__init__(TSMultiLabelClassification, **kwargs)"
   ]
  },
  {
   "cell_type": "raw",
   "metadata": {},
   "source": [
    "show_doc(TSPerAnnMultiLabelClassification.__init__)"
   ]
  },
  {
   "cell_type": "code",
   "execution_count": null,
   "metadata": {},
   "outputs": [],
   "source": []
  },
  {
   "cell_type": "markdown",
   "metadata": {},
   "source": [
    "# New\n",
    "\n",
    "\n",
    "\n",
    "Y Value format Format:\n",
    " - List with per-row values\n",
    " - Tuple per row (pos_spec, label_spec)\n",
    " - pos_spec: (i_start, i_end, [chan], [y_chan])  # using default parser\n",
    "   - if channel specified, it can be int, slice or \"random\".  if missing, defaults to all\n",
    " - label_spec: \n",
    "   - common label\n",
    "   - vector\n",
    "   - per-annotation label - label(s) per annotation\n",
    "\n",
    "#### Limitations\n",
    "- Must have at least 1 valid Label\n",
    "\n",
    "#### Approach\n",
    "- Preprocess Labels\n",
    "- offset to bounds\n",
    "- Zip annotations and labels after filtering endpoints"
   ]
  },
  {
   "cell_type": "code",
   "execution_count": null,
   "metadata": {},
   "outputs": [],
   "source": [
    "def y_getter_per_row_label(i, entry, **ignore):\n",
    "    return entry\n",
    "\n",
    "def y_getter_per_ann_label(i, entry, default=None, **ignore):\n",
    "    assert i is not None or default is not None\n",
    "    return entry[i] if i is not None else default\n",
    "\n",
    "def y_getter_vector_label(i, entry, offset=None, width=None, y_chan=None):   \n",
    "    assert offset is not None and width is not None\n",
    "    if len(entry.shape) > 1:\n",
    "        if y_chan is None:\n",
    "            y_chan = slice(entry.shape[0])\n",
    "        return entry[y_chan, i+offset:i+offset+width]  \n",
    "    else:\n",
    "        return entry[i+offset:i+offset+width] "
   ]
  },
  {
   "cell_type": "code",
   "execution_count": null,
   "metadata": {},
   "outputs": [
    {
     "data": {
      "text/plain": [
       "(array([[0., 1., 0., 0., 0., 0., 0., 0., 0., 0.]]), 1, (#1) [1], 1)"
      ]
     },
     "execution_count": null,
     "metadata": {},
     "output_type": "execute_result"
    }
   ],
   "source": [
    "X, y, anns, splits = get_reference_data(n_classes=3)\n",
    "X[0], y[0], anns[0], y_getter_per_row_label(anns[0][0], y[0])"
   ]
  },
  {
   "cell_type": "code",
   "execution_count": null,
   "metadata": {},
   "outputs": [
    {
     "data": {
      "text/plain": [
       "(array([[0., 1., 0., 0., 0., 0., 0., 0., 0., 0.]]), (#1) ['1'], (#1) [1], '1')"
      ]
     },
     "execution_count": null,
     "metadata": {},
     "output_type": "execute_result"
    }
   ],
   "source": [
    "X, y, anns, splits = get_reference_data(n_classes=3, per_ann_label=True)\n",
    "X[0], y[0], anns[0],  y_getter_per_ann_label(0, y[0])"
   ]
  },
  {
   "cell_type": "code",
   "execution_count": null,
   "metadata": {},
   "outputs": [
    {
     "data": {
      "text/plain": [
       "array([[ 0,  1,  2],\n",
       "       [10, 11, 12],\n",
       "       [20, 21, 22],\n",
       "       [30, 31, 32],\n",
       "       [40, 41, 42],\n",
       "       [50, 51, 52],\n",
       "       [60, 61, 62],\n",
       "       [70, 71, 72],\n",
       "       [80, 81, 82],\n",
       "       [90, 91, 92]])"
      ]
     },
     "execution_count": null,
     "metadata": {},
     "output_type": "execute_result"
    }
   ],
   "source": [
    "y_vec = np.arange(100).reshape(10, 10)\n",
    "y_getter_vector_label(0, y_vec, offset=0, width=3)"
   ]
  },
  {
   "cell_type": "code",
   "execution_count": null,
   "metadata": {},
   "outputs": [
    {
     "data": {
      "text/plain": [
       "array([10, 11, 12])"
      ]
     },
     "execution_count": null,
     "metadata": {},
     "output_type": "execute_result"
    }
   ],
   "source": [
    "y_getter_vector_label(0, y_vec, offset=0, width=3, y_chan=1)"
   ]
  },
  {
   "cell_type": "code",
   "execution_count": null,
   "metadata": {},
   "outputs": [
    {
     "data": {
      "text/plain": [
       "array([10, 11, 12])"
      ]
     },
     "execution_count": null,
     "metadata": {},
     "output_type": "execute_result"
    }
   ],
   "source": [
    "y_getter_vector_label(0, y_vec[1], offset=0, width=3)"
   ]
  },
  {
   "cell_type": "code",
   "execution_count": null,
   "metadata": {},
   "outputs": [],
   "source": []
  },
  {
   "cell_type": "code",
   "execution_count": null,
   "metadata": {},
   "outputs": [
    {
     "ename": "SyntaxError",
     "evalue": "invalid syntax (<ipython-input-39-dbef9b777f45>, line 6)",
     "output_type": "error",
     "traceback": [
      "\u001b[0;36m  File \u001b[0;32m\"<ipython-input-39-dbef9b777f45>\"\u001b[0;36m, line \u001b[0;32m6\u001b[0m\n\u001b[0;31m    bounds =\u001b[0m\n\u001b[0m             ^\u001b[0m\n\u001b[0;31mSyntaxError\u001b[0m\u001b[0;31m:\u001b[0m invalid syntax\n"
     ]
    }
   ],
   "source": [
    "def _get_ann_bounds(all_ann, lengths, width=100, offset=None):\n",
    "    lengths = [lengths]*len(all_ann) if isinstance(lengths, int) else lengths   # lengths for each row\n",
    "    offset = offset if offset else -width//2\n",
    "    offsetR = width + offset\n",
    "    \n",
    "    bounds = \n",
    "    \n",
    "    for i, row_anns in enumerate(all_ann):\n",
    "        row_anns =  [(idx, e) for idx, e in enumerate(row_anns) \n",
    "                     if e+offset >=0 and e+offsetR <  lengths[i]]  # trim overlap\n",
    "        if len(row_anns) > 0:\n",
    "            if limit and len(row_anns) > limit:\n",
    "                random.shuffle(row_anns)\n",
    "                row_anns = row_anns[:limit]\n",
    "            for i_a, pos in row_anns:\n",
    "                yield i, pos+offset, pos+offsetR, i_a\n",
    "        elif include_empty:\n",
    "            pos = random.randint(lengths[i]-width)\n",
    "            yield i, pos, pos+width, None\n",
    "        else:\n",
    "            continue"
   ]
  },
  {
   "cell_type": "code",
   "execution_count": null,
   "metadata": {},
   "outputs": [],
   "source": []
  },
  {
   "cell_type": "code",
   "execution_count": null,
   "metadata": {},
   "outputs": [],
   "source": []
  },
  {
   "cell_type": "code",
   "execution_count": null,
   "metadata": {},
   "outputs": [],
   "source": []
  },
  {
   "cell_type": "code",
   "execution_count": null,
   "metadata": {},
   "outputs": [],
   "source": [
    "#export\n",
    "class TSAnnotationWindow(ItemTransform):\n",
    "    \"\"\"Extract subsequence corresponding to annotation and selects appropriate label\"\"\"\n",
    "    @delegates(ItemTransform.__init__)\n",
    "    def __init__(self, width=100, offset=None, x_out_type=None, y_out_type=None, \n",
    "                 default_label=None, verbose=False, classifier=None, **kwargs):\n",
    "        \"\"\"Extract subsequence corresponding to annotation and selects appropriate label\"\"\"\n",
    "        self.width, self.offset, self.verbose = width, offset, verbose\n",
    "        self.x_out_type, self.y_out_type, self.default_label = x_out_type, y_out_type, default_label\n",
    "        self.y_mode, self.classifier = None, classifier\n",
    "        super().__init__(**kwargs)\n",
    "        \n",
    "\n",
    "    def _setup(self, o):\n",
    "        o_x, o_y = o            \n",
    "        self.is_batch =  len(o_x.data.shape) == 3 and o_x.data.shape[0] > 1\n",
    "        if self.is_batch:\n",
    "            o_y = o_y[0]  # loot at first row of y values when assessing type\n",
    "            \n",
    "        if isinstance(o_y, (TensorCategory, TensorMultiCategory)):\n",
    "            self.y_mode = 'common'\n",
    "        elif isinstance(o_y, (TSTensor, Tensor)):\n",
    "            self.y_mode = 'tensor'\n",
    "            if not self.y_out_type and isinstance(o_y, TSTensor):\n",
    "                self.y_out_type = TSTensor\n",
    "        elif isinstance(o_y, np.ndarray):\n",
    "            self.y_mode = 'numpy'\n",
    "            if not self.y_out_type:\n",
    "                self.y_out_type = TSTensor\n",
    "        elif isinstance(o_y, (list, tuple, L)):\n",
    "            self.y_mode = 'per_ann'\n",
    "        else:\n",
    "            raise Exception(f'Unknown y type: {type(o_y)}')   \n",
    "        if self.x_out_type is None:\n",
    "            self.x_out_type = TSTensor \n",
    "        \n",
    "        \n",
    "    def encodes(self, o):  \n",
    "        o_x, o_y = o  \n",
    "        if self.y_mode is None:\n",
    "            self._setup(o)\n",
    "        #o_y = L(*o_y) if isinstance(o_y, list) else o_y\n",
    "        \n",
    "        windows = [z for z in _sliding_annotations(o_x.ann, o_x.data.size()[-1], width=self.width, \n",
    "                                              offset=self.offset, include_empty=True, limit=1)]\n",
    "        output_x = torch.stack([o_x[i_row, :, idxL:idxR] for i_row, idxL, idxR, idx_a in windows] )\n",
    "        output_x = self.x_out_type(output_x)\n",
    "            \n",
    "        if self.y_mode == 'common':\n",
    "            output_y = o_y\n",
    "        elif self.y_mode == 'tensor':\n",
    "            output_y = torch.stack([o_y[i_row, ..., idxL:idxR] \n",
    "                                    for i_row, idxL, idxR, idx_a in windows] )\n",
    "            if self.y_out_type: \n",
    "                output_y = self.y_out_type(output_y)\n",
    "            elif isinstance(o_y, TSTensor):\n",
    "                output_y = o_y.new(output_y)\n",
    "        elif self.y_mode == 'numpy':\n",
    "            output_y = np.vstack([o_y[i_row][..., idxL:idxR] \n",
    "                                    for i_row, idxL, idxR, idx_a in windows] )\n",
    "            if self.y_out_type: \n",
    "                output_y = self.y_out_type(output_y)\n",
    "            elif isinstance(o_y, TSTensor):\n",
    "                output_y = o_y.new(output_y)     \n",
    "        elif self.y_mode == 'per_ann':\n",
    "            default_label = self.classifier.encode(self.default_label) \\\n",
    "                            if self.classifier and self.default_label else None\n",
    "            output_y =  [o_y[i_row][idx_a] if idx_a else default_label if default_label \\\n",
    "                         else o_y[i_row][idx_a]\n",
    "                         for i_row, idxL, idxR, idx_a in windows]\n",
    "        else:\n",
    "            raise exception(f'unknown y_mode: {self.y_mode}')\n",
    "            \n",
    "        if self.y_mode in ('per_ann', 'common'):\n",
    "            if self.y_out_type: \n",
    "                output_y = self.y_out_type(output_y)\n",
    "            else:\n",
    "                output_y = output_y[0].new(output_y)\n",
    "            \n",
    "        return output_x, output_y"
   ]
  },
  {
   "cell_type": "code",
   "execution_count": null,
   "metadata": {},
   "outputs": [],
   "source": [
    "show_doc(TSAnnotationWindow.__init__)"
   ]
  },
  {
   "cell_type": "markdown",
   "metadata": {},
   "source": [
    "````\n",
    "Inputs:\n",
    "    width:         Width of extracted subsequence, \n",
    "    offset:        Start of subsequence relative to annotated position, \n",
    "                   default -width//2 \n",
    "    default_label: When used with per-annotation labels, this is the label \n",
    "                   returned with randomly selected subsequence when no valid\n",
    "                   annotated position\n",
    "    classifier:    Used to encode default-label, if needed\n",
    "    x_out_type:    Overrides X output type, if X is non-tensor, defaults\n",
    "                   to TSTensor\n",
    "    y_out_type:    Overrides y output type, default to same as input type for \n",
    "                   per-row and per-annotation labels, uses TSTensor  \n",
    "                   for array/vector labels if not already in tensor format\n",
    "````"
   ]
  },
  {
   "cell_type": "markdown",
   "metadata": {},
   "source": [
    "Example:  TSAnnotationWindow with categorized per-row labels"
   ]
  },
  {
   "cell_type": "code",
   "execution_count": null,
   "metadata": {},
   "outputs": [],
   "source": [
    "width=120\n",
    "X, y, anns, splits = get_synthetic_sin_data(length=1000, n_sig=1000, dims=3, \n",
    "                                            split_pct=0.2)\n",
    "dls = get_ats_dls(X, y=y, anns=anns, splits=splits, tfms=[None, Categorize])\n",
    "\n",
    "xb,yb = next(iter(dls.valid))\n",
    "f, ax = plt.subplots(figsize=(8, 1))\n",
    "_ = xb.show(ax=ax)\n",
    "\n",
    "tsaw = TSAnnotationWindow(width=width)\n",
    "xo, yo = tsaw((xb, yb), split_idx=0)\n",
    "fig, ax = plt.subplots(figsize=(4, 2))\n",
    "_ = xo.show(ax=ax)\n",
    "xo, yo"
   ]
  },
  {
   "cell_type": "code",
   "execution_count": null,
   "metadata": {},
   "outputs": [],
   "source": [
    "#hide\n",
    "test_eq(xb.size()[:-1], xo.size()[:-1])\n",
    "test_eq(xo.size()[-1], tsaw.width)\n",
    "test_eq(yo, yb[0].new(yb))   # should be same labels"
   ]
  },
  {
   "cell_type": "markdown",
   "metadata": {},
   "source": [
    "Example: TSAnnotationWindow with categorized per-annotation labels"
   ]
  },
  {
   "cell_type": "code",
   "execution_count": null,
   "metadata": {},
   "outputs": [],
   "source": [
    "width=120\n",
    "X, y, anns, splits = get_synthetic_sin_data(length=1000, n_sig=1000, dims=3, \n",
    "                                            split_pct=0.2,per_ann_label=True)\n",
    "y_cat, c = pre_categorize(y, splits=splits)\n",
    "dls = get_ats_dls(X, y=y_cat, anns=anns, splits=splits, tfms=[None, None])\n",
    "\n",
    "xb,yb = next(iter(dls.valid))\n",
    "f, ax = plt.subplots(figsize=(8, 1))\n",
    "_ = xb.show(ax=ax)\n",
    "\n",
    "tsaw = TSAnnotationWindow(width=width)\n",
    "xo, yo = tsaw((xb, yb), split_idx=0)\n",
    "for i in range(0,10, 3):\n",
    "    fig, ax = plt.subplots(figsize=(2, 1.25))\n",
    "    plt.title(c.decodes(yo[i]))\n",
    "    _ = xo[i].show(ax=ax)\n",
    "xo[0], yo[0]"
   ]
  },
  {
   "cell_type": "code",
   "execution_count": null,
   "metadata": {},
   "outputs": [],
   "source": [
    "#hide\n",
    "test_eq(xb.size()[:-1], xo.size()[:-1])\n",
    "test_eq(xo.size()[-1], tsaw.width)\n",
    "test_eq(len(yo), len(yb))   # should be same labels\n",
    "test_eq(len({int(_z) for _z in yo}), 2)   # only 2 classes"
   ]
  },
  {
   "cell_type": "markdown",
   "metadata": {},
   "source": [
    "Example: TSAnnotationWindow vector labels"
   ]
  },
  {
   "cell_type": "code",
   "execution_count": null,
   "metadata": {},
   "outputs": [],
   "source": [
    "width=120\n",
    "X, y, anns, splits = get_synthetic_sin_data(length=1000, n_sig=1000, dims=3, \n",
    "                                            split_pct=0.2, label_is_array=True)\n",
    "dls = get_ats_dls(X, y=y, anns=anns, splits=splits, tfms=[None, ToTSTensor])\n",
    "xb,yb = next(iter(dls.valid))\n",
    "\n",
    "f, ax = plt.subplots(figsize=(8, 2))\n",
    "plt.title('vector label')\n",
    "_ = yb[0].show(ax=ax)\n",
    "\n",
    "tsaw = TSAnnotationWindow(width=width)\n",
    "xo, yo = tsaw((xb, yb), split_idx=0)\n",
    "fig, ax = plt.subplots(figsize=(4, 2))\n",
    "plt.title('subsequence vector label')\n",
    "_ = yo[0].show(ax=ax)\n",
    "xo, yo"
   ]
  },
  {
   "cell_type": "code",
   "execution_count": null,
   "metadata": {},
   "outputs": [],
   "source": [
    "#hide\n",
    "test_eq(xb.size()[:-1], xo.size()[:-1])\n",
    "test_eq(xo.size()[-1], tsaw.width)\n",
    "test_eq(yo.shape[0], len(yb))   # should be same labels\n",
    "test_eq(yo.shape[-1], tsaw.width)"
   ]
  },
  {
   "cell_type": "markdown",
   "metadata": {},
   "source": [
    "## End-to-End Support"
   ]
  },
  {
   "cell_type": "code",
   "execution_count": null,
   "metadata": {},
   "outputs": [],
   "source": [
    "#exporti\n",
    "def _tfm_to_list(entry):\n",
    "    if isinstance(entry, (tuple, list, L)):\n",
    "        return list(*entry)\n",
    "    elif entry:\n",
    "        return [entry]\n",
    "    else:\n",
    "        return []"
   ]
  },
  {
   "cell_type": "code",
   "execution_count": null,
   "metadata": {},
   "outputs": [],
   "source": [
    "#exporti\n",
    "def _merge_transforms(prefix_tfms, existing_tfms):\n",
    "    prefix_tfms = [_tfm_to_list(prefix_tfms[0]) , _tfm_to_list(prefix_tfms[1])] \\\n",
    "                   if prefix_tfms else [[], []]\n",
    "    existing_tfms = [tfm_to_list(existing_tfms[0]) , tfm_to_list(existing_tfms[1])] \\\n",
    "                     if existing_tfms else [[], []]\n",
    "    return [prefix_tfms[0]+existing_tfms[0], prefix_tfms[1]+existing_tfms[1]]"
   ]
  },
  {
   "cell_type": "code",
   "execution_count": null,
   "metadata": {},
   "outputs": [],
   "source": [
    "#export\n",
    "@delegates(get_ats_dls)\n",
    "def get_ats_dls_with_transforms(X, y=None, per_ann_label=False,\n",
    "                                window_width=100, window_offset=None,\n",
    "                                default_label=None,tfms=None, batch_tfms=None,\n",
    "                                **kwargs):\n",
    "    \"\"\"Returns TSAnnotatedDataLoaders with pre-configured transforms based on\n",
    "    label types.  Also includes classifier to decode/encode individual label\"\"\"\n",
    "    is_vector = isinstance(y[0], (np.ndarray, Tensor))\n",
    "    \n",
    "    if is_vector:\n",
    "        tfm_y = ToTSTensor\n",
    "        classifier = None\n",
    "    elif per_ann_label: # per_ann\n",
    "        if isinstance(y[0][0], (tuple, list, L)): # multi-category\n",
    "            tfm_y = TSPerAnnMultiLabelClassification(default=default_label)\n",
    "        else:\n",
    "            tfm_y = TSPerAnnClassification(default=default_label)\n",
    "        classifier = tfm_y.internal_classifier\n",
    "    else:   # per-row\n",
    "        if isinstance(y[0], (tuple, list, L)): # multi-category\n",
    "            tfm_y = TSMultiLabelClassification()\n",
    "        else:\n",
    "            tfm_y = TSClassification()\n",
    "        classifier = tfm_y\n",
    "        \n",
    "    if per_ann_label and default_label:\n",
    "        tsaw = TSAnnotationWindow(width=window_width, offset=window_offset,\n",
    "                                  default_label=default_label, \n",
    "                                  classifier=tfm_y.internal_classifier)\n",
    "    else:\n",
    "        tsaw = TSAnnotationWindow(width=window_width, offset=window_offset)\n",
    "    \n",
    "    tfms = _merge_transforms([None, tfm_y], tfms)\n",
    "    batch_tfms = _tfm_to_list(tsaw) + _tfm_to_list(batch_tfms)\n",
    "    dls = get_ats_dls(X, y=y, tfms=tfms, batch_tfms=batch_tfms, **kwargs)\n",
    "    return dls, classifier"
   ]
  },
  {
   "cell_type": "code",
   "execution_count": null,
   "metadata": {},
   "outputs": [],
   "source": [
    "show_doc(get_ats_dls_with_transforms)"
   ]
  },
  {
   "cell_type": "markdown",
   "metadata": {},
   "source": [
    "Example: Per-row labels"
   ]
  },
  {
   "cell_type": "code",
   "execution_count": null,
   "metadata": {},
   "outputs": [],
   "source": [
    "width=120\n",
    "X, y, anns, splits = get_synthetic_sin_data(length=1000, n_sig=1000, dims=3, \n",
    "                                            split_pct=0.2)\n",
    "dls, c = get_ats_dls_with_transforms(X, y=y, anns=anns, splits=splits, bs=2,\n",
    "                                  window_width=width, window_offset=-width//2)\n",
    "\n",
    "xb,yb = next(iter(dls.train))\n",
    "f, ax = plt.subplots(figsize=(3, 1))\n",
    "plt.title(f'Train: {c.decode(yb[0])}')\n",
    "_ = xb.show(ax=ax)\n",
    "\n",
    "xb,yb = next(iter(dls.valid))\n",
    "f, ax = plt.subplots(figsize=(3, 1))\n",
    "plt.title(f'Valid: {c.decode(yb[0])}')\n",
    "_ = xb.show(ax=ax)\n",
    "\n",
    "xb,yb"
   ]
  },
  {
   "cell_type": "markdown",
   "metadata": {},
   "source": [
    "Example:  Per-annotation labels"
   ]
  },
  {
   "cell_type": "code",
   "execution_count": null,
   "metadata": {},
   "outputs": [],
   "source": [
    "width=120\n",
    "X, y, anns, splits = get_synthetic_sin_data(length=1000, n_sig=1000, dims=3, \n",
    "                                            split_pct=0.2, per_ann_label=True)\n",
    "dls, c = get_ats_dls_with_transforms(X, y=y, anns=anns, splits=splits, bs=2,\n",
    "                                  per_ann_label=True,\n",
    "                                  window_width=width, window_offset=-width//2)\n",
    "\n",
    "xb,yb = next(iter(dls.train))\n",
    "f, ax = plt.subplots(figsize=(3, 1))\n",
    "plt.title(f'Train: {c.decode(yb[0])}')\n",
    "_ = xb.show(ax=ax)\n",
    "\n",
    "xb,yb = next(iter(dls.valid))\n",
    "f, ax = plt.subplots(figsize=(3, 1))\n",
    "plt.title(f'Valid: {c.decode(yb[0])}')\n",
    "_ = xb.show(ax=ax)\n",
    "\n",
    "xb,yb"
   ]
  },
  {
   "cell_type": "markdown",
   "metadata": {},
   "source": [
    "Example: Array/Vector labels"
   ]
  },
  {
   "cell_type": "code",
   "execution_count": null,
   "metadata": {},
   "outputs": [],
   "source": [
    "width=120\n",
    "X, y, anns, splits = get_synthetic_sin_data(length=1000, n_sig=1000, dims=3, \n",
    "                                            split_pct=0.2, label_is_array=True)\n",
    "dls, c = get_ats_dls_with_transforms(X, y=y, anns=anns, splits=splits, bs=2,\n",
    "                                  window_width=width, window_offset=-width//2)\n",
    "\n",
    "xb,yb = next(iter(dls.train))\n",
    "f, ax = plt.subplots(figsize=(3, 1))\n",
    "plt.title(f'Train: X')\n",
    "_ = xb[0].show(ax=ax)\n",
    "f, ax = plt.subplots(figsize=(3, 1))\n",
    "plt.title(f'Train: Y')\n",
    "_ = yb[0].show(ax=ax)\n",
    "\n",
    "xb,yb = next(iter(dls.valid))\n",
    "f, ax = plt.subplots(figsize=(3, 1))\n",
    "plt.title(f'Valid: X')\n",
    "_ = xb[0].show(ax=ax)\n",
    "f, ax = plt.subplots(figsize=(3, 1))\n",
    "plt.title(f'Valid: Y')\n",
    "_ = yb[0].show(ax=ax)\n",
    "\n",
    "xb,yb"
   ]
  },
  {
   "cell_type": "code",
   "execution_count": null,
   "metadata": {},
   "outputs": [],
   "source": []
  }
 ],
 "metadata": {
  "kernelspec": {
   "display_name": "Python [conda env:tsai2]",
   "language": "python",
   "name": "conda-env-tsai2-py"
  }
 },
 "nbformat": 4,
 "nbformat_minor": 2
}
